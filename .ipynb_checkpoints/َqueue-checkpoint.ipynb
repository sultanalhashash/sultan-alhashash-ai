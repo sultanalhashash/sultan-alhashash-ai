{
 "cells": [
  {
   "cell_type": "code",
   "execution_count": 1,
   "metadata": {},
   "outputs": [
    {
     "name": "stdout",
     "output_type": "stream",
     "text": [
      "Initia1 queue:  [1, 21, 32, 45]\n",
      "The new queue after pop:  [32, 45]\n",
      "The new queue after push:  [32, 45, 78]\n"
     ]
    }
   ],
   "source": [
    "myQueue=[1,21,32,45]\n",
    "print(\"Initia1 queue: \", myQueue)\n",
    "myQueue.pop(0)\n",
    "myQueue.pop(0)\n",
    "print(\"The new queue after pop: \", myQueue)\n",
    "myQueue.append(78)\n",
    "print(\"The new queue after push: \", myQueue)"
   ]
  },
  {
   "cell_type": "code",
   "execution_count": 2,
   "metadata": {},
   "outputs": [
    {
     "name": "stdout",
     "output_type": "stream",
     "text": [
      "a\n",
      "b\n",
      "c\n",
      "d\n",
      "e\n"
     ]
    }
   ],
   "source": [
    "from queue import *\n",
    "myQueue = Queue()\n",
    "myQueue.put(\"a\")\n",
    "myQueue.put(\"b\")\n",
    "myQueue.put(\"c\")\n",
    "myQueue.put(\"d\")\n",
    "myQueue.put(\"e\")\n",
    "for element in list(myQueue.queue):\n",
    "    print(element)"
   ]
  },
  {
   "cell_type": "code",
   "execution_count": null,
   "metadata": {},
   "outputs": [],
   "source": [
    "myQueue = Queue()\n",
    "for i in range(5):\n",
    "    element=input(\"enter queue element: \")\n",
    "    myQueue.put(element)\n",
    "for element in list(myQueue.queue):\n",
    "    print(element)\n",
    "print (\"Queue size is: \",myQueue.qsize())"
   ]
  },
  {
   "cell_type": "code",
   "execution_count": null,
   "metadata": {},
   "outputs": [],
   "source": []
  }
 ],
 "metadata": {
  "kernelspec": {
   "display_name": "Python 3",
   "language": "python",
   "name": "python3"
  },
  "language_info": {
   "codemirror_mode": {
    "name": "ipython",
    "version": 3
   },
   "file_extension": ".py",
   "mimetype": "text/x-python",
   "name": "python",
   "nbconvert_exporter": "python",
   "pygments_lexer": "ipython3",
   "version": "3.8.5"
  }
 },
 "nbformat": 4,
 "nbformat_minor": 4
}
