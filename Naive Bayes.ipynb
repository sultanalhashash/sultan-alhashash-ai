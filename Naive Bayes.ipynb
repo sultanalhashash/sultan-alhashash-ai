{
 "cells": [
  {
   "cell_type": "code",
   "execution_count": 1,
   "metadata": {},
   "outputs": [],
   "source": [
    "import pandas as pd\n",
    "from sklearn.model_selection import train_test_split\n",
    "from sklearn.naive_bayes import GaussianNB\n",
    "from sklearn import metrics"
   ]
  },
  {
   "cell_type": "code",
   "execution_count": 20,
   "metadata": {},
   "outputs": [],
   "source": [
    "data = {\n",
    "'Hours': [1, 2, 3, 4, 5, 6, 7, 8, 9, 10],\n",
    "'Result': ['راسب', 'راسب', 'راسب', 'راسب', 'ناجح', 'ناجح', 'ناجح', 'ناجح', 'ناجح', 'ناجح']\n",
    "}\n",
    "df = pd.DataFrame(data)"
   ]
  },
  {
   "cell_type": "code",
   "execution_count": 21,
   "metadata": {},
   "outputs": [],
   "source": [
    "X = df[['Hours']]\n",
    "y = df['Result']"
   ]
  },
  {
   "cell_type": "code",
   "execution_count": 22,
   "metadata": {},
   "outputs": [],
   "source": [
    "X_train, X_test, y_train, y_test = train_test_split(X, y, test_size=0.3, random_state=42)"
   ]
  },
  {
   "cell_type": "code",
   "execution_count": 23,
   "metadata": {},
   "outputs": [],
   "source": [
    "nb = GaussianNB()\n",
    "nb.fit(X_train, y_train)\n",
    "y_pred = nb.predict(X_test)"
   ]
  },
  {
   "cell_type": "code",
   "execution_count": 24,
   "metadata": {},
   "outputs": [
    {
     "name": "stdout",
     "output_type": "stream",
     "text": [
      "accuracy:1.0\n",
      "conf_matrix:\n",
      " [[1 0]\n",
      " [0 2]]\n"
     ]
    }
   ],
   "source": [
    "#  تقييم النموذج\n",
    "accuracy = metrics.accuracy_score(y_test, y_pred)\n",
    "conf_matrix = metrics.confusion_matrix(y_test, y_pred)\n",
    "print(f\"accuracy:{ accuracy}\")\n",
    "print(f\"conf_matrix:\\n {conf_matrix}\")"
   ]
  },
  {
   "cell_type": "code",
   "execution_count": 26,
   "metadata": {},
   "outputs": [
    {
     "name": "stdout",
     "output_type": "stream",
     "text": [
      " توقع النتيجه لطالب درس:5ساعات ناجح\n"
     ]
    }
   ],
   "source": [
    "hours=5\n",
    "predicted_score = nb.predict([[hours]])\n",
    "print(f' توقع النتيجه لطالب درس:{hours}ساعات {predicted_score[0]}')"
   ]
  },
  {
   "cell_type": "code",
   "execution_count": null,
   "metadata": {},
   "outputs": [],
   "source": []
  }
 ],
 "metadata": {
  "kernelspec": {
   "display_name": "Python 3",
   "language": "python",
   "name": "python3"
  },
  "language_info": {
   "codemirror_mode": {
    "name": "ipython",
    "version": 3
   },
   "file_extension": ".py",
   "mimetype": "text/x-python",
   "name": "python",
   "nbconvert_exporter": "python",
   "pygments_lexer": "ipython3",
   "version": "3.8.5"
  }
 },
 "nbformat": 4,
 "nbformat_minor": 4
}
